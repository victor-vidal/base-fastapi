{
 "cells": [
  {
   "cell_type": "code",
   "execution_count": 19,
   "metadata": {},
   "outputs": [],
   "source": [
    "import pandas as pd\n",
    "from sklearn.model_selection import train_test_split\n",
    "from sklearn.ensemble import RandomForestClassifier\n",
    "from sklearn.metrics import classification_report, accuracy_score\n",
    "import joblib"
   ]
  },
  {
   "cell_type": "code",
   "execution_count": 2,
   "metadata": {},
   "outputs": [],
   "source": [
    "data = [\n",
    "    {\n",
    "        \"id\": \"4b425c1c-a9e8-4f7e-b7e7-4cc201c3f798\",\n",
    "        \"description\": \"Pay my apartment rent.\",\n",
    "        \"same_holder\": False,\n",
    "        \"currency\": \"EUR\",\n",
    "        \"transaction_value\": 130.99,\n",
    "        \"transaction_time\": \"2015-03-21T11:07:22.956087\",\n",
    "        \"datetime_program\": \"2015-03-21T11:07:22.956087\",\n",
    "        \"customer_doc\": \"XX.XXX.XXX/0001-XX\",\n",
    "        \"receptor_doc\": \"XX.XXX.XXX/0001-XX\",\n",
    "        \"device_fingerprint\": \"36004ba1725dfc57ff731cf770228c7e\",\n",
    "        \"device_timezone\": \"America/Sao_Paulo\",\n",
    "        \"device_vendor\": \"Google\",\n",
    "        \"device_version\": \"7.13.1\",\n",
    "        \"device_language\": \"pt-BR\",\n",
    "        \"device_user_agent\": \"Mozilla/5.0 (Windows NT 10.0; Win64; x64) AppleWebKit/537.36 (KHTML, like Gecko) Chrome/103.0.5060.114 Safari/537.36\",\n",
    "        \"device_model\": \"SM-J810M\",\n",
    "        \"device_platform\": \"Win32\",\n",
    "        \"device_category\": \"MOBILE\",\n",
    "        \"device_ip\": \"127.0.0.1\",\n",
    "        \"device_longitude\": -43.9687074,\n",
    "        \"device_latitude\": 75.9234567,\n",
    "        \"device_memory\": 8.0,\n",
    "        \"device_cpu_count\": 4,\n",
    "        \"device_cookies_enabled\": True,\n",
    "        \"device_screen_resolution_x\": 1920,\n",
    "        \"device_screen_resolution_y\": 1080,\n",
    "        \"device_screen_orientation\": \"portrait-primary\",\n",
    "        \"fraud_status\": 0,\n",
    "    },\n",
    "    {\n",
    "        \"id\": \"35425c1c-a9e8-4f7e-b7e7-4cc201c3f798\",\n",
    "        \"description\": \"Pay my apartment rent.\",\n",
    "        \"same_holder\": False,\n",
    "        \"currency\": \"EUR\",\n",
    "        \"transaction_value\": 130.99,\n",
    "        \"transaction_time\": \"2015-03-21T11:07:22.956087\",\n",
    "        \"datetime_program\": \"2015-03-21T11:07:22.956087\",\n",
    "        \"customer_doc\": \"XX.XXX.XXX/0001-XX\",\n",
    "        \"receptor_doc\": \"XX.XXX.XXX/0001-XX\",\n",
    "        \"device_fingerprint\": \"36004ba1725dfc57ff731cf770228c7e\",\n",
    "        \"device_timezone\": \"America/Sao_Paulo\",\n",
    "        \"device_vendor\": \"Google\",\n",
    "        \"device_version\": \"7.13.1\",\n",
    "        \"device_language\": \"pt-BR\",\n",
    "        \"device_user_agent\": \"Mozilla/5.0 (Windows NT 10.0; Win64; x64) AppleWebKit/537.36 (KHTML, like Gecko) Chrome/103.0.5060.114 Safari/537.36\",\n",
    "        \"device_model\": \"SM-J810M\",\n",
    "        \"device_platform\": \"Win32\",\n",
    "        \"device_category\": \"MOBILE\",\n",
    "        \"device_ip\": \"127.0.0.1\",\n",
    "        \"device_longitude\": -43.9687074,\n",
    "        \"device_latitude\": 75.9234567,\n",
    "        \"device_memory\": 8.0,\n",
    "        \"device_cpu_count\": 4,\n",
    "        \"device_cookies_enabled\": True,\n",
    "        \"device_screen_resolution_x\": 1920,\n",
    "        \"device_screen_resolution_y\": 1080,\n",
    "        \"device_screen_orientation\": \"portrait-primary\",\n",
    "        \"fraud_status\": 0,\n",
    "    },\n",
    "    {\n",
    "        \"id\": \"34425c1c-a9e8-4f7e-b7e7-4cc201c3f798\",\n",
    "        \"description\": \"Pay my apartment rent.\",\n",
    "        \"same_holder\": False,\n",
    "        \"currency\": \"EUR\",\n",
    "        \"transaction_value\": 130.99,\n",
    "        \"transaction_time\": \"2015-03-21T11:07:22.956087\",\n",
    "        \"datetime_program\": \"2015-03-21T11:07:22.956087\",\n",
    "        \"customer_doc\": \"XX.XXX.XXX/0001-XX\",\n",
    "        \"receptor_doc\": \"XX.XXX.XXX/0001-XX\",\n",
    "        \"device_fingerprint\": \"36004ba1725dfc57ff731cf770228c7e\",\n",
    "        \"device_timezone\": \"America/Sao_Paulo\",\n",
    "        \"device_vendor\": \"Google\",\n",
    "        \"device_version\": \"7.13.1\",\n",
    "        \"device_language\": \"pt-BR\",\n",
    "        \"device_user_agent\": \"Mozilla/5.0 (Windows NT 10.0; Win64; x64) AppleWebKit/537.36 (KHTML, like Gecko) Chrome/103.0.5060.114 Safari/537.36\",\n",
    "        \"device_model\": \"SM-J810M\",\n",
    "        \"device_platform\": \"Win32\",\n",
    "        \"device_category\": \"MOBILE\",\n",
    "        \"device_ip\": \"127.0.0.1\",\n",
    "        \"device_longitude\": -43.9687074,\n",
    "        \"device_latitude\": 75.9234567,\n",
    "        \"device_memory\": 8.0,\n",
    "        \"device_cpu_count\": 4,\n",
    "        \"device_cookies_enabled\": True,\n",
    "        \"device_screen_resolution_x\": 1920,\n",
    "        \"device_screen_resolution_y\": 1080,\n",
    "        \"device_screen_orientation\": \"portrait-primary\",\n",
    "        \"fraud_status\": 1,\n",
    "    },\n",
    "    {\n",
    "        \"id\": \"33425c1c-a9e8-4f7e-b7e7-4cc201c3f798\",\n",
    "        \"description\": \"Pay my apartment rent.\",\n",
    "        \"same_holder\": False,\n",
    "        \"currency\": \"EUR\",\n",
    "        \"transaction_value\": 130.99,\n",
    "        \"transaction_time\": \"2015-03-21T11:07:22.956087\",\n",
    "        \"datetime_program\": \"2015-03-21T11:07:22.956087\",\n",
    "        \"customer_doc\": \"XX.XXX.XXX/0001-XX\",\n",
    "        \"receptor_doc\": \"XX.XXX.XXX/0001-XX\",\n",
    "        \"device_fingerprint\": \"36004ba1725dfc57ff731cf770228c7e\",\n",
    "        \"device_timezone\": \"America/Sao_Paulo\",\n",
    "        \"device_vendor\": \"Google\",\n",
    "        \"device_version\": \"7.13.1\",\n",
    "        \"device_language\": \"pt-BR\",\n",
    "        \"device_user_agent\": \"Mozilla/5.0 (Windows NT 10.0; Win64; x64) AppleWebKit/537.36 (KHTML, like Gecko) Chrome/103.0.5060.114 Safari/537.36\",\n",
    "        \"device_model\": \"SM-J810M\",\n",
    "        \"device_platform\": \"Win32\",\n",
    "        \"device_category\": \"MOBILE\",\n",
    "        \"device_ip\": \"127.0.0.1\",\n",
    "        \"device_longitude\": -43.9687074,\n",
    "        \"device_latitude\": 75.9234567,\n",
    "        \"device_memory\": 8.0,\n",
    "        \"device_cpu_count\": 4,\n",
    "        \"device_cookies_enabled\": True,\n",
    "        \"device_screen_resolution_x\": 1920,\n",
    "        \"device_screen_resolution_y\": 1080,\n",
    "        \"device_screen_orientation\": \"portrait-primary\",\n",
    "        \"fraud_status\": 1,\n",
    "    },\n",
    "    {\n",
    "        \"id\": \"32425c1c-a9e8-4f7e-b7e7-4cc201c3f798\",\n",
    "        \"description\": \"Pay my apartment rent.\",\n",
    "        \"same_holder\": False,\n",
    "        \"currency\": \"EUR\",\n",
    "        \"transaction_value\": 130.99,\n",
    "        \"transaction_time\": \"2015-03-21T11:07:22.956087\",\n",
    "        \"datetime_program\": \"2015-03-21T11:07:22.956087\",\n",
    "        \"customer_doc\": \"XX.XXX.XXX/0001-XX\",\n",
    "        \"receptor_doc\": \"XX.XXX.XXX/0001-XX\",\n",
    "        \"device_fingerprint\": \"36004ba1725dfc57ff731cf770228c7e\",\n",
    "        \"device_timezone\": \"America/Sao_Paulo\",\n",
    "        \"device_vendor\": \"Google\",\n",
    "        \"device_version\": \"7.13.1\",\n",
    "        \"device_language\": \"pt-BR\",\n",
    "        \"device_user_agent\": \"Mozilla/5.0 (Windows NT 10.0; Win64; x64) AppleWebKit/537.36 (KHTML, like Gecko) Chrome/103.0.5060.114 Safari/537.36\",\n",
    "        \"device_model\": \"SM-J810M\",\n",
    "        \"device_platform\": \"Win32\",\n",
    "        \"device_category\": \"MOBILE\",\n",
    "        \"device_ip\": \"127.0.0.1\",\n",
    "        \"device_longitude\": -43.9687074,\n",
    "        \"device_latitude\": 75.9234567,\n",
    "        \"device_memory\": 8.0,\n",
    "        \"device_cpu_count\": 4,\n",
    "        \"device_cookies_enabled\": True,\n",
    "        \"device_screen_resolution_x\": 1920,\n",
    "        \"device_screen_resolution_y\": 1080,\n",
    "        \"device_screen_orientation\": \"portrait-primary\",\n",
    "        \"fraud_status\": 1,\n",
    "    },\n",
    "]"
   ]
  },
  {
   "cell_type": "code",
   "execution_count": 3,
   "metadata": {},
   "outputs": [],
   "source": [
    "df = pd.DataFrame(data)"
   ]
  },
  {
   "cell_type": "code",
   "execution_count": 4,
   "metadata": {},
   "outputs": [],
   "source": [
    "# Drop columns that are not suitable for classification\n",
    "columns_to_drop = [\n",
    "    \"id\",\n",
    "    \"description\",\n",
    "    \"same_holder\",\n",
    "    \"currency\",\n",
    "    \"transaction_time\",\n",
    "    \"datetime_program\",\n",
    "    \"customer_doc\",\n",
    "    \"receptor_doc\",\n",
    "    \"device_fingerprint\",\n",
    "    \"device_timezone\",\n",
    "    \"device_vendor\",\n",
    "    \"device_version\",\n",
    "    \"device_language\",\n",
    "    \"device_user_agent\",\n",
    "    \"device_model\",\n",
    "    \"device_platform\",\n",
    "    \"device_category\",\n",
    "    \"device_ip\",\n",
    "    \"device_memory\",\n",
    "    \"device_cpu_count\",\n",
    "    \"device_cookies_enabled\",\n",
    "    \"device_screen_orientation\",\n",
    "]\n",
    "df = df.drop(columns=columns_to_drop, axis=1)"
   ]
  },
  {
   "cell_type": "code",
   "execution_count": 5,
   "metadata": {},
   "outputs": [],
   "source": [
    "# Splitting the data into features (X) and target (y)\n",
    "y = df[\"fraud_status\"]\n",
    "X = df.drop(\"fraud_status\", axis=1)"
   ]
  },
  {
   "cell_type": "code",
   "execution_count": 6,
   "metadata": {},
   "outputs": [],
   "source": [
    "# Split the data into training and testing sets\n",
    "X_train, X_test, y_train, y_test = train_test_split(\n",
    "    X, y, test_size=0.2, random_state=42\n",
    ")"
   ]
  },
  {
   "cell_type": "code",
   "execution_count": 7,
   "metadata": {},
   "outputs": [],
   "source": [
    "# Initialize the Random Forest Classifier\n",
    "clf = RandomForestClassifier(random_state=42)"
   ]
  },
  {
   "cell_type": "code",
   "execution_count": 8,
   "metadata": {},
   "outputs": [
    {
     "data": {
      "text/html": [
       "<style>#sk-container-id-1 {color: black;}#sk-container-id-1 pre{padding: 0;}#sk-container-id-1 div.sk-toggleable {background-color: white;}#sk-container-id-1 label.sk-toggleable__label {cursor: pointer;display: block;width: 100%;margin-bottom: 0;padding: 0.3em;box-sizing: border-box;text-align: center;}#sk-container-id-1 label.sk-toggleable__label-arrow:before {content: \"▸\";float: left;margin-right: 0.25em;color: #696969;}#sk-container-id-1 label.sk-toggleable__label-arrow:hover:before {color: black;}#sk-container-id-1 div.sk-estimator:hover label.sk-toggleable__label-arrow:before {color: black;}#sk-container-id-1 div.sk-toggleable__content {max-height: 0;max-width: 0;overflow: hidden;text-align: left;background-color: #f0f8ff;}#sk-container-id-1 div.sk-toggleable__content pre {margin: 0.2em;color: black;border-radius: 0.25em;background-color: #f0f8ff;}#sk-container-id-1 input.sk-toggleable__control:checked~div.sk-toggleable__content {max-height: 200px;max-width: 100%;overflow: auto;}#sk-container-id-1 input.sk-toggleable__control:checked~label.sk-toggleable__label-arrow:before {content: \"▾\";}#sk-container-id-1 div.sk-estimator input.sk-toggleable__control:checked~label.sk-toggleable__label {background-color: #d4ebff;}#sk-container-id-1 div.sk-label input.sk-toggleable__control:checked~label.sk-toggleable__label {background-color: #d4ebff;}#sk-container-id-1 input.sk-hidden--visually {border: 0;clip: rect(1px 1px 1px 1px);clip: rect(1px, 1px, 1px, 1px);height: 1px;margin: -1px;overflow: hidden;padding: 0;position: absolute;width: 1px;}#sk-container-id-1 div.sk-estimator {font-family: monospace;background-color: #f0f8ff;border: 1px dotted black;border-radius: 0.25em;box-sizing: border-box;margin-bottom: 0.5em;}#sk-container-id-1 div.sk-estimator:hover {background-color: #d4ebff;}#sk-container-id-1 div.sk-parallel-item::after {content: \"\";width: 100%;border-bottom: 1px solid gray;flex-grow: 1;}#sk-container-id-1 div.sk-label:hover label.sk-toggleable__label {background-color: #d4ebff;}#sk-container-id-1 div.sk-serial::before {content: \"\";position: absolute;border-left: 1px solid gray;box-sizing: border-box;top: 0;bottom: 0;left: 50%;z-index: 0;}#sk-container-id-1 div.sk-serial {display: flex;flex-direction: column;align-items: center;background-color: white;padding-right: 0.2em;padding-left: 0.2em;position: relative;}#sk-container-id-1 div.sk-item {position: relative;z-index: 1;}#sk-container-id-1 div.sk-parallel {display: flex;align-items: stretch;justify-content: center;background-color: white;position: relative;}#sk-container-id-1 div.sk-item::before, #sk-container-id-1 div.sk-parallel-item::before {content: \"\";position: absolute;border-left: 1px solid gray;box-sizing: border-box;top: 0;bottom: 0;left: 50%;z-index: -1;}#sk-container-id-1 div.sk-parallel-item {display: flex;flex-direction: column;z-index: 1;position: relative;background-color: white;}#sk-container-id-1 div.sk-parallel-item:first-child::after {align-self: flex-end;width: 50%;}#sk-container-id-1 div.sk-parallel-item:last-child::after {align-self: flex-start;width: 50%;}#sk-container-id-1 div.sk-parallel-item:only-child::after {width: 0;}#sk-container-id-1 div.sk-dashed-wrapped {border: 1px dashed gray;margin: 0 0.4em 0.5em 0.4em;box-sizing: border-box;padding-bottom: 0.4em;background-color: white;}#sk-container-id-1 div.sk-label label {font-family: monospace;font-weight: bold;display: inline-block;line-height: 1.2em;}#sk-container-id-1 div.sk-label-container {text-align: center;}#sk-container-id-1 div.sk-container {/* jupyter's `normalize.less` sets `[hidden] { display: none; }` but bootstrap.min.css set `[hidden] { display: none !important; }` so we also need the `!important` here to be able to override the default hidden behavior on the sphinx rendered scikit-learn.org. See: https://github.com/scikit-learn/scikit-learn/issues/21755 */display: inline-block !important;position: relative;}#sk-container-id-1 div.sk-text-repr-fallback {display: none;}</style><div id=\"sk-container-id-1\" class=\"sk-top-container\"><div class=\"sk-text-repr-fallback\"><pre>RandomForestClassifier(random_state=42)</pre><b>In a Jupyter environment, please rerun this cell to show the HTML representation or trust the notebook. <br />On GitHub, the HTML representation is unable to render, please try loading this page with nbviewer.org.</b></div><div class=\"sk-container\" hidden><div class=\"sk-item\"><div class=\"sk-estimator sk-toggleable\"><input class=\"sk-toggleable__control sk-hidden--visually\" id=\"sk-estimator-id-1\" type=\"checkbox\" checked><label for=\"sk-estimator-id-1\" class=\"sk-toggleable__label sk-toggleable__label-arrow\">RandomForestClassifier</label><div class=\"sk-toggleable__content\"><pre>RandomForestClassifier(random_state=42)</pre></div></div></div></div></div>"
      ],
      "text/plain": [
       "RandomForestClassifier(random_state=42)"
      ]
     },
     "execution_count": 8,
     "metadata": {},
     "output_type": "execute_result"
    }
   ],
   "source": [
    "# Train the classifier\n",
    "clf.fit(X_train, y_train)"
   ]
  },
  {
   "cell_type": "code",
   "execution_count": 9,
   "metadata": {},
   "outputs": [],
   "source": [
    "# Make predictions\n",
    "y_pred = clf.predict(X_test)"
   ]
  },
  {
   "cell_type": "code",
   "execution_count": 10,
   "metadata": {},
   "outputs": [
    {
     "name": "stderr",
     "output_type": "stream",
     "text": [
      "/home/victor/drenv38/lib/python3.8/site-packages/sklearn/metrics/_classification.py:1469: UndefinedMetricWarning: Precision and F-score are ill-defined and being set to 0.0 in labels with no predicted samples. Use `zero_division` parameter to control this behavior.\n",
      "  _warn_prf(average, modifier, msg_start, len(result))\n",
      "/home/victor/drenv38/lib/python3.8/site-packages/sklearn/metrics/_classification.py:1469: UndefinedMetricWarning: Recall and F-score are ill-defined and being set to 0.0 in labels with no true samples. Use `zero_division` parameter to control this behavior.\n",
      "  _warn_prf(average, modifier, msg_start, len(result))\n",
      "/home/victor/drenv38/lib/python3.8/site-packages/sklearn/metrics/_classification.py:1469: UndefinedMetricWarning: Precision and F-score are ill-defined and being set to 0.0 in labels with no predicted samples. Use `zero_division` parameter to control this behavior.\n",
      "  _warn_prf(average, modifier, msg_start, len(result))\n",
      "/home/victor/drenv38/lib/python3.8/site-packages/sklearn/metrics/_classification.py:1469: UndefinedMetricWarning: Recall and F-score are ill-defined and being set to 0.0 in labels with no true samples. Use `zero_division` parameter to control this behavior.\n",
      "  _warn_prf(average, modifier, msg_start, len(result))\n",
      "/home/victor/drenv38/lib/python3.8/site-packages/sklearn/metrics/_classification.py:1469: UndefinedMetricWarning: Precision and F-score are ill-defined and being set to 0.0 in labels with no predicted samples. Use `zero_division` parameter to control this behavior.\n",
      "  _warn_prf(average, modifier, msg_start, len(result))\n",
      "/home/victor/drenv38/lib/python3.8/site-packages/sklearn/metrics/_classification.py:1469: UndefinedMetricWarning: Recall and F-score are ill-defined and being set to 0.0 in labels with no true samples. Use `zero_division` parameter to control this behavior.\n",
      "  _warn_prf(average, modifier, msg_start, len(result))\n"
     ]
    }
   ],
   "source": [
    "# Evaluate the model\n",
    "accuracy = accuracy_score(y_test, y_pred)\n",
    "classification_rep = classification_report(y_test, y_pred)"
   ]
  },
  {
   "cell_type": "code",
   "execution_count": 11,
   "metadata": {},
   "outputs": [
    {
     "name": "stdout",
     "output_type": "stream",
     "text": [
      "Accuracy: 0.0\n",
      "Classification Report:\n",
      "               precision    recall  f1-score   support\n",
      "\n",
      "           0       0.00      0.00      0.00       1.0\n",
      "           1       0.00      0.00      0.00       0.0\n",
      "\n",
      "    accuracy                           0.00       1.0\n",
      "   macro avg       0.00      0.00      0.00       1.0\n",
      "weighted avg       0.00      0.00      0.00       1.0\n",
      "\n"
     ]
    }
   ],
   "source": [
    "print(\"Accuracy:\", accuracy)\n",
    "print(\"Classification Report:\\n\", classification_rep)"
   ]
  },
  {
   "cell_type": "code",
   "execution_count": 13,
   "metadata": {},
   "outputs": [],
   "source": [
    "def predict(model, data):\n",
    "    df = pd.DataFrame(data)\n",
    "\n",
    "    # Drop columns that are not suitable for classification\n",
    "    columns_to_drop = [\n",
    "        \"id\",\n",
    "        \"description\",\n",
    "        \"same_holder\",\n",
    "        \"currency\",\n",
    "        \"transaction_time\",\n",
    "        \"datetime_program\",\n",
    "        \"customer_doc\",\n",
    "        \"receptor_doc\",\n",
    "        \"device_fingerprint\",\n",
    "        \"device_timezone\",\n",
    "        \"device_vendor\",\n",
    "        \"device_version\",\n",
    "        \"device_language\",\n",
    "        \"device_user_agent\",\n",
    "        \"device_model\",\n",
    "        \"device_platform\",\n",
    "        \"device_category\",\n",
    "        \"device_ip\",\n",
    "        \"device_memory\",\n",
    "        \"device_cpu_count\",\n",
    "        \"device_cookies_enabled\",\n",
    "        \"device_screen_orientation\",\n",
    "    ]\n",
    "    df = df.drop(columns=columns_to_drop, axis=1)\n",
    "\n",
    "    return model.predict(df)"
   ]
  },
  {
   "cell_type": "code",
   "execution_count": 16,
   "metadata": {},
   "outputs": [],
   "source": [
    "data = {\n",
    "    \"id\": \"32425c1c-a9e8-4f7e-b7e7-4cc201c3f798\",\n",
    "    \"description\": \"Pay my apartment rent.\",\n",
    "    \"same_holder\": False,\n",
    "    \"currency\": \"EUR\",\n",
    "    \"transaction_value\": 130.99,\n",
    "    \"transaction_time\": \"2015-03-21T11:07:22.956087\",\n",
    "    \"datetime_program\": \"2015-03-21T11:07:22.956087\",\n",
    "    \"customer_doc\": \"XX.XXX.XXX/0001-XX\",\n",
    "    \"receptor_doc\": \"XX.XXX.XXX/0001-XX\",\n",
    "    \"device_fingerprint\": \"36004ba1725dfc57ff731cf770228c7e\",\n",
    "    \"device_timezone\": \"America/Sao_Paulo\",\n",
    "    \"device_vendor\": \"Google\",\n",
    "    \"device_version\": \"7.13.1\",\n",
    "    \"device_language\": \"pt-BR\",\n",
    "    \"device_user_agent\": \"Mozilla/5.0 (Windows NT 10.0; Win64; x64) AppleWebKit/537.36 (KHTML, like Gecko) Chrome/103.0.5060.114 Safari/537.36\",\n",
    "    \"device_model\": \"SM-J810M\",\n",
    "    \"device_platform\": \"Win32\",\n",
    "    \"device_category\": \"MOBILE\",\n",
    "    \"device_ip\": \"127.0.0.1\",\n",
    "    \"device_longitude\": -43.9687074,\n",
    "    \"device_latitude\": 75.9234567,\n",
    "    \"device_memory\": 8.0,\n",
    "    \"device_cpu_count\": 4,\n",
    "    \"device_cookies_enabled\": True,\n",
    "    \"device_screen_resolution_x\": 1920,\n",
    "    \"device_screen_resolution_y\": 1080,\n",
    "    \"device_screen_orientation\": \"portrait-primary\",\n",
    "}"
   ]
  },
  {
   "cell_type": "code",
   "execution_count": 17,
   "metadata": {},
   "outputs": [
    {
     "data": {
      "text/plain": [
       "array([1])"
      ]
     },
     "execution_count": 17,
     "metadata": {},
     "output_type": "execute_result"
    }
   ],
   "source": [
    "predict(clf, [data])"
   ]
  },
  {
   "cell_type": "code",
   "execution_count": 20,
   "metadata": {},
   "outputs": [
    {
     "data": {
      "text/plain": [
       "['random_forest_model.pkl']"
      ]
     },
     "execution_count": 20,
     "metadata": {},
     "output_type": "execute_result"
    }
   ],
   "source": [
    "model_filename = 'random_forest_model.pkl'\n",
    "joblib.dump(clf, model_filename)"
   ]
  },
  {
   "cell_type": "code",
   "execution_count": 21,
   "metadata": {},
   "outputs": [],
   "source": [
    "loaded_model = joblib.load(model_filename)"
   ]
  },
  {
   "cell_type": "code",
   "execution_count": 23,
   "metadata": {},
   "outputs": [
    {
     "data": {
      "text/plain": [
       "1"
      ]
     },
     "execution_count": 23,
     "metadata": {},
     "output_type": "execute_result"
    }
   ],
   "source": [
    "predict(loaded_model, [data])[0]"
   ]
  }
 ],
 "metadata": {
  "kernelspec": {
   "display_name": "drenv38",
   "language": "python",
   "name": "python3"
  },
  "language_info": {
   "codemirror_mode": {
    "name": "ipython",
    "version": 3
   },
   "file_extension": ".py",
   "mimetype": "text/x-python",
   "name": "python",
   "nbconvert_exporter": "python",
   "pygments_lexer": "ipython3",
   "version": "3.8.10"
  },
  "orig_nbformat": 4
 },
 "nbformat": 4,
 "nbformat_minor": 2
}
